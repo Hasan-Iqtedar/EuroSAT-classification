{
  "nbformat": 4,
  "nbformat_minor": 0,
  "metadata": {
    "colab": {
      "name": "EusatHI.ipynb",
      "provenance": [],
      "authorship_tag": "ABX9TyMExqm9am4tsTR0jMqHYNHt",
      "include_colab_link": true
    },
    "kernelspec": {
      "name": "python3",
      "display_name": "Python 3"
    }
  },
  "cells": [
    {
      "cell_type": "markdown",
      "metadata": {
        "id": "view-in-github",
        "colab_type": "text"
      },
      "source": [
        "<a href=\"https://colab.research.google.com/github/Hasan-Iqtedar/EuroSAT-classification/blob/master/EusatHI.ipynb\" target=\"_parent\"><img src=\"https://colab.research.google.com/assets/colab-badge.svg\" alt=\"Open In Colab\"/></a>"
      ]
    },
    {
      "cell_type": "code",
      "metadata": {
        "id": "oYd5hQAeQ4oZ",
        "colab_type": "code",
        "colab": {
          "base_uri": "https://localhost:8080/",
          "height": 445
        },
        "outputId": "70324a4c-e6bd-4bfd-d706-7bae2c42cf98"
      },
      "source": [
        "#Using tensorflow 1\n",
        "!pip install tensorflow==1.15.0\n",
        "\n",
        "print('Hello World')"
      ],
      "execution_count": null,
      "outputs": [
        {
          "output_type": "stream",
          "text": [
            "Requirement already satisfied: tensorflow==1.15.0 in /usr/local/lib/python3.6/dist-packages (1.15.0)\n",
            "Requirement already satisfied: keras-preprocessing>=1.0.5 in /usr/local/lib/python3.6/dist-packages (from tensorflow==1.15.0) (1.1.2)\n",
            "Requirement already satisfied: gast==0.2.2 in /usr/local/lib/python3.6/dist-packages (from tensorflow==1.15.0) (0.2.2)\n",
            "Requirement already satisfied: wheel>=0.26 in /usr/local/lib/python3.6/dist-packages (from tensorflow==1.15.0) (0.34.2)\n",
            "Requirement already satisfied: astor>=0.6.0 in /usr/local/lib/python3.6/dist-packages (from tensorflow==1.15.0) (0.8.1)\n",
            "Requirement already satisfied: absl-py>=0.7.0 in /usr/local/lib/python3.6/dist-packages (from tensorflow==1.15.0) (0.9.0)\n",
            "Requirement already satisfied: tensorboard<1.16.0,>=1.15.0 in /usr/local/lib/python3.6/dist-packages (from tensorflow==1.15.0) (1.15.0)\n",
            "Requirement already satisfied: tensorflow-estimator==1.15.1 in /usr/local/lib/python3.6/dist-packages (from tensorflow==1.15.0) (1.15.1)\n",
            "Requirement already satisfied: numpy<2.0,>=1.16.0 in /usr/local/lib/python3.6/dist-packages (from tensorflow==1.15.0) (1.18.5)\n",
            "Requirement already satisfied: wrapt>=1.11.1 in /usr/local/lib/python3.6/dist-packages (from tensorflow==1.15.0) (1.12.1)\n",
            "Requirement already satisfied: grpcio>=1.8.6 in /usr/local/lib/python3.6/dist-packages (from tensorflow==1.15.0) (1.30.0)\n",
            "Requirement already satisfied: six>=1.10.0 in /usr/local/lib/python3.6/dist-packages (from tensorflow==1.15.0) (1.15.0)\n",
            "Requirement already satisfied: opt-einsum>=2.3.2 in /usr/local/lib/python3.6/dist-packages (from tensorflow==1.15.0) (3.2.1)\n",
            "Requirement already satisfied: termcolor>=1.1.0 in /usr/local/lib/python3.6/dist-packages (from tensorflow==1.15.0) (1.1.0)\n",
            "Requirement already satisfied: keras-applications>=1.0.8 in /usr/local/lib/python3.6/dist-packages (from tensorflow==1.15.0) (1.0.8)\n",
            "Requirement already satisfied: google-pasta>=0.1.6 in /usr/local/lib/python3.6/dist-packages (from tensorflow==1.15.0) (0.2.0)\n",
            "Requirement already satisfied: protobuf>=3.6.1 in /usr/local/lib/python3.6/dist-packages (from tensorflow==1.15.0) (3.12.2)\n",
            "Requirement already satisfied: werkzeug>=0.11.15 in /usr/local/lib/python3.6/dist-packages (from tensorboard<1.16.0,>=1.15.0->tensorflow==1.15.0) (1.0.1)\n",
            "Requirement already satisfied: setuptools>=41.0.0 in /usr/local/lib/python3.6/dist-packages (from tensorboard<1.16.0,>=1.15.0->tensorflow==1.15.0) (49.1.0)\n",
            "Requirement already satisfied: markdown>=2.6.8 in /usr/local/lib/python3.6/dist-packages (from tensorboard<1.16.0,>=1.15.0->tensorflow==1.15.0) (3.2.2)\n",
            "Requirement already satisfied: h5py in /usr/local/lib/python3.6/dist-packages (from keras-applications>=1.0.8->tensorflow==1.15.0) (2.10.0)\n",
            "Requirement already satisfied: importlib-metadata; python_version < \"3.8\" in /usr/local/lib/python3.6/dist-packages (from markdown>=2.6.8->tensorboard<1.16.0,>=1.15.0->tensorflow==1.15.0) (1.7.0)\n",
            "Requirement already satisfied: zipp>=0.5 in /usr/local/lib/python3.6/dist-packages (from importlib-metadata; python_version < \"3.8\"->markdown>=2.6.8->tensorboard<1.16.0,>=1.15.0->tensorflow==1.15.0) (3.1.0)\n",
            "Hello World\n"
          ],
          "name": "stdout"
        }
      ]
    },
    {
      "cell_type": "code",
      "metadata": {
        "id": "iHq8-GpeR31X",
        "colab_type": "code",
        "colab": {
          "base_uri": "https://localhost:8080/",
          "height": 51
        },
        "outputId": "dcced479-5a8d-4cdc-fcfe-76ece637c9bb"
      },
      "source": [
        "#Testing tf.\n",
        "import tensorflow as tf\n",
        "a = tf.constant(2)\n",
        "b = tf.constant(3)\n",
        "\n",
        "c = a*b\n",
        "\n",
        "print(tf.__version__)\n",
        "\n",
        "with tf.Session() as sess:\n",
        "  print(sess.run(c))"
      ],
      "execution_count": 1,
      "outputs": [
        {
          "output_type": "stream",
          "text": [
            "1.15.0\n",
            "6\n"
          ],
          "name": "stdout"
        }
      ]
    },
    {
      "cell_type": "code",
      "metadata": {
        "id": "3hfNqYfbU7CF",
        "colab_type": "code",
        "colab": {
          "base_uri": "https://localhost:8080/",
          "height": 377
        },
        "outputId": "e17ec738-cbc6-4f68-fec9-86739e9a57e2"
      },
      "source": [
        "pip install tensorflow-datasets"
      ],
      "execution_count": null,
      "outputs": [
        {
          "output_type": "stream",
          "text": [
            "Requirement already satisfied: tensorflow-datasets in /usr/local/lib/python3.6/dist-packages (2.1.0)\n",
            "Requirement already satisfied: requests>=2.19.0 in /usr/local/lib/python3.6/dist-packages (from tensorflow-datasets) (2.23.0)\n",
            "Requirement already satisfied: termcolor in /usr/local/lib/python3.6/dist-packages (from tensorflow-datasets) (1.1.0)\n",
            "Requirement already satisfied: future in /usr/local/lib/python3.6/dist-packages (from tensorflow-datasets) (0.16.0)\n",
            "Requirement already satisfied: dill in /usr/local/lib/python3.6/dist-packages (from tensorflow-datasets) (0.3.2)\n",
            "Requirement already satisfied: six in /usr/local/lib/python3.6/dist-packages (from tensorflow-datasets) (1.15.0)\n",
            "Requirement already satisfied: wrapt in /usr/local/lib/python3.6/dist-packages (from tensorflow-datasets) (1.12.1)\n",
            "Requirement already satisfied: tqdm in /usr/local/lib/python3.6/dist-packages (from tensorflow-datasets) (4.41.1)\n",
            "Requirement already satisfied: attrs>=18.1.0 in /usr/local/lib/python3.6/dist-packages (from tensorflow-datasets) (19.3.0)\n",
            "Requirement already satisfied: absl-py in /usr/local/lib/python3.6/dist-packages (from tensorflow-datasets) (0.9.0)\n",
            "Requirement already satisfied: protobuf>=3.6.1 in /usr/local/lib/python3.6/dist-packages (from tensorflow-datasets) (3.12.2)\n",
            "Requirement already satisfied: tensorflow-metadata in /usr/local/lib/python3.6/dist-packages (from tensorflow-datasets) (0.22.2)\n",
            "Requirement already satisfied: numpy in /usr/local/lib/python3.6/dist-packages (from tensorflow-datasets) (1.18.5)\n",
            "Requirement already satisfied: promise in /usr/local/lib/python3.6/dist-packages (from tensorflow-datasets) (2.3)\n",
            "Requirement already satisfied: certifi>=2017.4.17 in /usr/local/lib/python3.6/dist-packages (from requests>=2.19.0->tensorflow-datasets) (2020.6.20)\n",
            "Requirement already satisfied: idna<3,>=2.5 in /usr/local/lib/python3.6/dist-packages (from requests>=2.19.0->tensorflow-datasets) (2.10)\n",
            "Requirement already satisfied: chardet<4,>=3.0.2 in /usr/local/lib/python3.6/dist-packages (from requests>=2.19.0->tensorflow-datasets) (3.0.4)\n",
            "Requirement already satisfied: urllib3!=1.25.0,!=1.25.1,<1.26,>=1.21.1 in /usr/local/lib/python3.6/dist-packages (from requests>=2.19.0->tensorflow-datasets) (1.24.3)\n",
            "Requirement already satisfied: setuptools in /usr/local/lib/python3.6/dist-packages (from protobuf>=3.6.1->tensorflow-datasets) (49.1.0)\n",
            "Requirement already satisfied: googleapis-common-protos in /usr/local/lib/python3.6/dist-packages (from tensorflow-metadata->tensorflow-datasets) (1.52.0)\n"
          ],
          "name": "stdout"
        }
      ]
    },
    {
      "cell_type": "code",
      "metadata": {
        "id": "vHQdseIRVAr4",
        "colab_type": "code",
        "colab": {}
      },
      "source": [
        "import tensorflow_datasets as tfds\n",
        "#Loading the data.\n",
        "data, info = tfds.load(\"eurosat\", split = 'train', with_info=True, as_supervised=True)\n"
      ],
      "execution_count": 3,
      "outputs": []
    },
    {
      "cell_type": "code",
      "metadata": {
        "id": "I6OYui0QlFCj",
        "colab_type": "code",
        "colab": {}
      },
      "source": [
        "import numpy as np\n",
        "img = list()\n",
        "lbl = list()\n",
        "x = np.zeros((27000,64,64,3))\n",
        "y = np.zeros((27000,1))\n",
        "m = 0\n",
        "\n",
        "#Converting the data into numpy arrays and then storing it in the matrices x and y.\n",
        "for ex in tfds.as_numpy(data):\n",
        "  image, label = ex\n",
        "  img.append(image)\n",
        "  lbl.append(label)\n",
        "  x[m,:,:,:] = image\n",
        "  y[m,:] = label\n",
        "  m += 1 \n",
        "\n",
        "\n",
        "  "
      ],
      "execution_count": 4,
      "outputs": []
    },
    {
      "cell_type": "code",
      "metadata": {
        "id": "IdI9FLctX0-f",
        "colab_type": "code",
        "colab": {
          "base_uri": "https://localhost:8080/",
          "height": 370
        },
        "outputId": "a6ab7191-4c22-4286-dfca-2958d10169a2"
      },
      "source": [
        "#Checking the images.\n",
        "print(len(img), len(lbl))\n",
        "import matplotlib.pyplot as plt\n",
        "print(\"label[27]:\",lbl[27])\n",
        "plt.imshow(img[27])\n",
        "print(\"x:\",x.shape)\n",
        "print(\"img[27]:\",img[27].shape)\n",
        "print(\"X[27]:\",x[27].shape)\n",
        "print(\"y[27]\", y[27])"
      ],
      "execution_count": 5,
      "outputs": [
        {
          "output_type": "stream",
          "text": [
            "27000 27000\n",
            "label[27]: 0\n",
            "x: (27000, 64, 64, 3)\n",
            "img[27]: (64, 64, 3)\n",
            "X[27]: (64, 64, 3)\n",
            "y[27] [0.]\n"
          ],
          "name": "stdout"
        },
        {
          "output_type": "display_data",
          "data": {
            "image/png": "[encoded data removed]",
            "text/plain": [
              "<Figure size 432x288 with 1 Axes>"
            ]
          },
          "metadata": {
            "tags": [],
            "needs_background": "light"
          }
        }
      ]
    },
    {
      "cell_type": "code",
      "metadata": {
        "id": "-KYDEQ2SQOoI",
        "colab_type": "code",
        "colab": {}
      },
      "source": [
        "def one_hot_matrix(labels, classes):\n",
        "  C = tf.constant(classes, name = 'C')\n",
        "\n",
        "  oneHotMatrix = tf.one_hot(labels, C, axis = 0)\n",
        "\n",
        "  with tf.Session() as sess:\n",
        "    one_hot = sess.run(oneHotMatrix)\n",
        "\n",
        "  return one_hot  "
      ],
      "execution_count": 6,
      "outputs": []
    },
    {
      "cell_type": "code",
      "metadata": {
        "id": "yHDlmbyzRi03",
        "colab_type": "code",
        "colab": {
          "base_uri": "https://localhost:8080/",
          "height": 204
        },
        "outputId": "c6f196fb-25db-48e7-8a18-0965da23b1aa"
      },
      "source": [
        "#Testing the one_hot_matrix function\n",
        "one_hot = one_hot_matrix([1,2,0,9,4,5,6,7,2,3], 10)\n",
        "print(one_hot)\n",
        "print('**', one_hot.shape)"
      ],
      "execution_count": null,
      "outputs": [
        {
          "output_type": "stream",
          "text": [
            "[[0. 0. 1. 0. 0. 0. 0. 0. 0. 0.]\n",
            " [1. 0. 0. 0. 0. 0. 0. 0. 0. 0.]\n",
            " [0. 1. 0. 0. 0. 0. 0. 0. 1. 0.]\n",
            " [0. 0. 0. 0. 0. 0. 0. 0. 0. 1.]\n",
            " [0. 0. 0. 0. 1. 0. 0. 0. 0. 0.]\n",
            " [0. 0. 0. 0. 0. 1. 0. 0. 0. 0.]\n",
            " [0. 0. 0. 0. 0. 0. 1. 0. 0. 0.]\n",
            " [0. 0. 0. 0. 0. 0. 0. 1. 0. 0.]\n",
            " [0. 0. 0. 0. 0. 0. 0. 0. 0. 0.]\n",
            " [0. 0. 0. 1. 0. 0. 0. 0. 0. 0.]]\n",
            "** (10, 10)\n"
          ],
          "name": "stdout"
        }
      ]
    },
    {
      "cell_type": "code",
      "metadata": {
        "id": "Zucq5u5JSXo1",
        "colab_type": "code",
        "colab": {
          "base_uri": "https://localhost:8080/",
          "height": 102
        },
        "outputId": "77e0fee3-4e13-4578-e9c2-f7a95c2066fe"
      },
      "source": [
        "print(y.T.shape)\n",
        "yhot = y.T.reshape(27000)\n",
        "print(y[0])\n",
        "print(yhot[ 0:9])\n",
        "yhot = one_hot_matrix(yhot, 10).T\n",
        "print(yhot.shape)\n",
        "print(yhot[:,0])\n"
      ],
      "execution_count": 7,
      "outputs": [
        {
          "output_type": "stream",
          "text": [
            "(1, 27000)\n",
            "[4.]\n",
            "[4. 8. 8. 8. 9. 1. 2. 4. 8.]\n",
            "(27000, 10)\n",
            "[0. 0. 0. ... 1. 0. 0.]\n"
          ],
          "name": "stdout"
        }
      ]
    },
    {
      "cell_type": "code",
      "metadata": {
        "id": "DHt_6K-KX0sS",
        "colab_type": "code",
        "colab": {
          "base_uri": "https://localhost:8080/",
          "height": 119
        },
        "outputId": "fa701ff2-3cf3-4418-f408-001a6cc11b65"
      },
      "source": [
        "#one hot labels.\n",
        "Y = yhot \n",
        "\n",
        "#Dividing the examples in train and test sets.\n",
        "X_train = x[0:24300, :, :, :]\n",
        "Y_train = yhot[0:24300, :]\n",
        "X_test = x[24300 : , :, :, :]\n",
        "Y_test = yhot[24300 : , :]\n",
        "\n",
        "#Normalizing train and test sets.\n",
        "X_train = X_train/255\n",
        "X_test = X_test/255\n",
        "print(\"Number of training examples:\",X_train.shape[0])\n",
        "print(\"Number of test examples: \",X_test.shape[0])\n",
        "print(\"X_train shape:\", X_train.shape)\n",
        "print(\"Y_train shape:\", Y_train.shape)\n",
        "print(\"X_test shape:\", X_test.shape)\n",
        "print(\"Y_test shape:\", Y_test.shape)\n"
      ],
      "execution_count": 8,
      "outputs": [
        {
          "output_type": "stream",
          "text": [
            "Number of training examples: 24300\n",
            "Number of test examples:  2700\n",
            "X_train shape: (24300, 64, 64, 3)\n",
            "Y_train shape: (24300, 10)\n",
            "X_test shape: (2700, 64, 64, 3)\n",
            "Y_test shape: (2700, 10)\n"
          ],
          "name": "stdout"
        }
      ]
    },
    {
      "cell_type": "code",
      "metadata": {
        "id": "VXfOV3staVyP",
        "colab_type": "code",
        "colab": {}
      },
      "source": [
        "def create_placeholders(nH0, nW0, nC0, ny):\n",
        "  #nH0: Height of the input image.\n",
        "  #nW0: Width of the input image.\n",
        "  #nC0: Number of channels of input.\n",
        "  #ny : Number of classes.\n",
        "  \n",
        "  #X for image inputs and Y for labels.\n",
        "  X = tf.placeholder(tf.float32, shape = (None, nH0, nW0, nC0))\n",
        "  Y = tf.placeholder(tf.float32, shape = (None, ny))\n",
        "\n",
        "  return X, Y\n",
        "\n"
      ],
      "execution_count": 9,
      "outputs": []
    },
    {
      "cell_type": "code",
      "metadata": {
        "id": "yMNPaUTW2SWG",
        "colab_type": "code",
        "colab": {}
      },
      "source": [
        "def initialize_parameters():\n",
        "  #Returns parameters initialized in a dictionary named parameters.\n",
        "  \n",
        "  tf.set_random_seed(1) \n",
        "  \n",
        "  W1 = tf.get_variable('W1', [4,4,3,8], initializer = tf.contrib.layers.xavier_initializer(seed=0) )\n",
        "  W2 = tf.get_variable('W2', [2,2,8,16], initializer = tf.contrib.layers.xavier_initializer(seed=0))\n",
        "\n",
        "  parameters = {'W1' : W1, 'W2' : W2}\n",
        "\n",
        "  return parameters"
      ],
      "execution_count": 10,
      "outputs": []
    },
    {
      "cell_type": "code",
      "metadata": {
        "id": "qxpcGRdw9Wn8",
        "colab_type": "code",
        "colab": {
          "base_uri": "https://localhost:8080/",
          "height": 204
        },
        "outputId": "cb413951-2800-4b1f-de1c-c7b49bc967cc"
      },
      "source": [
        "tf.reset_default_graph()\n",
        "with tf.Session() as sess_test:\n",
        "    parameters = initialize_parameters()\n",
        "    init = tf.global_variables_initializer()\n",
        "    sess_test.run(init)\n",
        "    print(\"W1[1,1,1] = \\n\" + str(parameters[\"W1\"].eval()[1,1,1]))\n",
        "    print(\"W1.shape: \" + str(parameters[\"W1\"].shape))\n",
        "    print(\"\\n\")\n",
        "    print(\"W2[1,1,1] = \\n\" + str(parameters[\"W2\"].eval()[1,1,1]))\n",
        "    print(\"W2.shape: \" + str(parameters[\"W2\"].shape))"
      ],
      "execution_count": null,
      "outputs": [
        {
          "output_type": "stream",
          "text": [
            "W1[1,1,1] = \n",
            "[ 0.00131723  0.1417614  -0.04434952  0.09197326  0.14984085 -0.03514394\n",
            " -0.06847463  0.05245192]\n",
            "W1.shape: (4, 4, 3, 8)\n",
            "\n",
            "\n",
            "W2[1,1,1] = \n",
            "[-0.08566415  0.17750949  0.11974221  0.16773748 -0.0830943  -0.08058\n",
            " -0.00577033 -0.14643836  0.24162132 -0.05857408 -0.19055021  0.1345228\n",
            " -0.22779644 -0.1601823  -0.16117483 -0.10286498]\n",
            "W2.shape: (2, 2, 8, 16)\n"
          ],
          "name": "stdout"
        }
      ]
    },
    {
      "cell_type": "code",
      "metadata": {
        "id": "8ynvAlF59s_q",
        "colab_type": "code",
        "colab": {}
      },
      "source": [
        "def forward_propagation(X, parameters):\n",
        "\n",
        "  W1 = parameters['W1']\n",
        "  W2 = parameters['W2']\n",
        "  \n",
        "  #Convolutional Layer.\n",
        "  Z1 = tf.nn.conv2d(X, W1, strides = [1,1,1,1], padding = 'SAME')\n",
        "  A1 = tf.nn.relu(Z1)\n",
        "\n",
        "  #Max Pool Layer.\n",
        "  P1 = tf.nn.max_pool(A1, ksize = [1,8,8,1], strides = [1,8,8,1], padding = 'SAME')\n",
        "\n",
        "  #Convolutional Layer.\n",
        "  Z2 = tf.nn.conv2d(P1, W2, strides = [1,1,1,1], padding = 'SAME')\n",
        "  A2 = tf.nn.relu(Z2)\n",
        "\n",
        "  #Max Pool Layer.\n",
        "  P2 = tf.nn.max_pool(A2, ksize = [1,4,4,1], strides = [1,4,4,1], padding = 'SAME')\n",
        "\n",
        "  #Flattening P2\n",
        "  F = tf.contrib.layers.flatten(P2)\n",
        "  \n",
        "  #Fully Connected Layer.\n",
        "  Z3 = tf.contrib.layers.fully_connected(F, 10, activation_fn = None)\n",
        "  \n",
        "  return Z3\n"
      ],
      "execution_count": 11,
      "outputs": []
    },
    {
      "cell_type": "code",
      "metadata": {
        "id": "SoUIUSI0upBl",
        "colab_type": "code",
        "colab": {}
      },
      "source": [
        "def computeCost(Z3, Y):\n",
        "  # Returns the cost\n",
        "  cost = tf.reduce_mean(tf.nn.softmax_cross_entropy_with_logits(logits = Z3, labels = Y))\n",
        "\n",
        "  return cost\n",
        "  \n",
        "\n"
      ],
      "execution_count": 12,
      "outputs": []
    },
    {
      "cell_type": "code",
      "metadata": {
        "id": "6ncHoJ5SjzJ_",
        "colab_type": "code",
        "colab": {}
      },
      "source": [
        "def randomMiniBatches(X, Y, miniBatchSize, seed):\n",
        "  np.random.seed(seed)\n",
        "  m = X.shape[0]\n",
        "  miniBatches = list()#List of all mini batches.\n",
        "\n",
        "  #Shuffling the examples.\n",
        "  permutation = list(np.random.permutation(m))\n",
        "  shuffled_X = X[permutation, :]\n",
        "  shuffled_Y = Y[permutation, :]\n",
        "  \n",
        "  #Total complete mini batches.\n",
        "  numOfCompleteMiniBatches = int( m/miniBatchSize )\n",
        "  #Computing the mini batches.\n",
        "  for k in range(0, numOfCompleteMiniBatches):\n",
        "    miniBatch_X = shuffled_X[ k*miniBatchSize : (k+1)*miniBatchSize, :]\n",
        "    miniBatch_Y = shuffled_Y[ k*miniBatchSize : (k+1)*miniBatchSize, :]\n",
        "\n",
        "    miniBatch = (miniBatch_X, miniBatch_Y)\n",
        "    miniBatches.append(miniBatch)\n",
        "    \n",
        "    #For the last incomplete miniBatch.\n",
        "    if m % miniBatchSize != 0:\n",
        "      miniBatch_X = shuffled_X[ miniBatchSize : numOfCompleteMiniBatches, : ]\n",
        "      miniBatch_Y = shuffled_Y[ miniBatchSize : numOfCompleteMiniBatches, : ]\n",
        "\n",
        "      miniBatch = (miniBatch_X, miniBatch_Y)\n",
        "      miniBatches.append(miniBatch)\n",
        "    \n",
        "\n",
        "  return miniBatches\n",
        "\n",
        "\n",
        "\n"
      ],
      "execution_count": 13,
      "outputs": []
    },
    {
      "cell_type": "code",
      "metadata": {
        "id": "y8-zOf5PpZIl",
        "colab_type": "code",
        "colab": {
          "base_uri": "https://localhost:8080/",
          "height": 68
        },
        "outputId": "0067f5eb-006e-4c88-e69c-c37092d75b63"
      },
      "source": [
        "miniBatches = randomMiniBatches(X_train, Y_train, 64, 0)\n",
        "\n",
        "print(\"Shape of mini batch 0: \", miniBatches[0][0].shape)"
      ],
      "execution_count": null,
      "outputs": [
        {
          "output_type": "stream",
          "text": [
            "**** (24300, 10) \n",
            " (24300, 64, 64, 3)\n",
            "Shape of mini batch 0:  (64, 64, 64, 3)\n"
          ],
          "name": "stdout"
        }
      ]
    },
    {
      "cell_type": "code",
      "metadata": {
        "id": "pOeJzafRyg2W",
        "colab_type": "code",
        "colab": {}
      },
      "source": [
        "def model(X_train, Y_train, X_test, Y_test, learningRate = 0.009, numOfEpochs = 50, miniBatchSize = 64):\n",
        "  \n",
        "  tf.reset_default_graph()\n",
        "  tf.set_random_seed(1)\n",
        "  seed = 3\n",
        "  costs = list()\n",
        "  #m is the number of training examples.\n",
        "  #nH0 is the height of input image.\n",
        "  #nW0 is the width of input image.\n",
        "  #nC0 is the number of channels of the input image.\n",
        "  #ny is the number of classes i.e 10\n",
        "  (m, nH0, nW0, nC0) = X_train.shape\n",
        "  ny = Y_train.shape[1]\n",
        "\n",
        "\n",
        "  #Creating placeholders.\n",
        "  X, Y = create_placeholders(nH0, nW0, nC0, ny)\n",
        "\n",
        "  #Initializing parameters.\n",
        "  parameters = initialize_parameters()\n",
        "\n",
        "  #Adding forward propagation to the tensorflow graph.\n",
        "  Z3 = forward_propagation(X, parameters)\n",
        "\n",
        "  #Adding a function to compute the cost in the tensorflow graph.\n",
        "  cost = computeCost(Z3, Y)\n",
        "\n",
        "  #Defining the optimizer for back propagation.\n",
        "  optimizer = tf.train.AdamOptimizer(learning_rate= learningRate).minimize(cost)\n",
        "\n",
        "  init = tf.global_variables_initializer()\n",
        "\n",
        "  with tf.Session() as sess:\n",
        "    sess.run(init)\n",
        "\n",
        "    for epoch in range(numOfEpochs):\n",
        "      #\n",
        "      miniBatchCost = 0.\n",
        "      numOfMiniBatches = int(m/miniBatchSize)\n",
        "      seed += 1\n",
        "\n",
        "      miniBatches = randomMiniBatches(X_train, Y_train, miniBatchSize, seed) \n",
        "    \n",
        "      for miniBatch in miniBatches:\n",
        "        #\n",
        "        (miniBatch_X, miniBatch_Y) = miniBatch\n",
        "\n",
        "        _, tempCost = sess.run([optimizer, cost], feed_dict = {X: miniBatch_X, Y: miniBatch_Y})\n",
        "        miniBatchCost = tempCost/numOfMiniBatches\n",
        "\n",
        "      print (\"Cost after epoch %i: %f\" % (epoch, miniBatchCost))\n",
        "      costs.append(miniBatchCost)\n",
        "\n",
        "    plt.plot(np.squeeze(costs))\n",
        "    plt.ylabel('cost')\n",
        "    plt.xlabel('iterations (per tens)')\n",
        "    plt.title(\"Learning rate =\" + str(learningRate))\n",
        "    plt.show()\n",
        "\n",
        "    predict_op = tf.argmax(Z3, 1)\n",
        "    correct_prediction = tf.equal(predict_op, tf.argmax(Y, 1))\n",
        "\n",
        "    accuracy = tf.reduce_mean(tf.cast(correct_prediction, \"float\"))\n",
        "    print(accuracy)\n",
        "    train_accuracy = accuracy.eval({X: X_train, Y: Y_train})\n",
        "    test_accuracy = accuracy.eval({X: X_test, Y: Y_test})\n",
        "    print(\"Train Accuracy:\", train_accuracy)\n",
        "    print(\"Test Accuracy:\", test_accuracy)\n",
        "\n",
        "\n",
        "\n",
        "\n",
        "\n",
        "  return train_accuracy, test_accuracy, parameters\n"
      ],
      "execution_count": 14,
      "outputs": []
    },
    {
      "cell_type": "code",
      "metadata": {
        "id": "4JKuZcAPt6mN",
        "colab_type": "code",
        "colab": {
          "base_uri": "https://localhost:8080/",
          "height": 1000
        },
        "outputId": "46e5060e-5b53-4ab3-b6bc-0e75b94c523e"
      },
      "source": [
        "_, _, parameters = model(X_train, Y_train, X_test, Y_test)"
      ],
      "execution_count": null,
      "outputs": [
        {
          "output_type": "stream",
          "text": [
            "WARNING:tensorflow:\n",
            "The TensorFlow contrib module will not be included in TensorFlow 2.0.\n",
            "For more information, please see:\n",
            "  * https://github.com/tensorflow/community/blob/master/rfcs/20180907-contrib-sunset.md\n",
            "  * https://github.com/tensorflow/addons\n",
            "  * https://github.com/tensorflow/io (for I/O related ops)\n",
            "If you depend on functionality not listed there, please file an issue.\n",
            "\n"
          ],
          "name": "stdout"
        },
        {
          "output_type": "stream",
          "text": [
            "WARNING:tensorflow:\n",
            "The TensorFlow contrib module will not be included in TensorFlow 2.0.\n",
            "For more information, please see:\n",
            "  * https://github.com/tensorflow/community/blob/master/rfcs/20180907-contrib-sunset.md\n",
            "  * https://github.com/tensorflow/addons\n",
            "  * https://github.com/tensorflow/io (for I/O related ops)\n",
            "If you depend on functionality not listed there, please file an issue.\n",
            "\n"
          ],
          "name": "stderr"
        },
        {
          "output_type": "stream",
          "text": [
            "WARNING:tensorflow:From /usr/local/lib/python3.6/dist-packages/tensorflow_core/contrib/layers/python/layers/layers.py:1634: flatten (from tensorflow.python.layers.core) is deprecated and will be removed in a future version.\n",
            "Instructions for updating:\n",
            "Use keras.layers.flatten instead.\n"
          ],
          "name": "stdout"
        },
        {
          "output_type": "stream",
          "text": [
            "WARNING:tensorflow:From /usr/local/lib/python3.6/dist-packages/tensorflow_core/contrib/layers/python/layers/layers.py:1634: flatten (from tensorflow.python.layers.core) is deprecated and will be removed in a future version.\n",
            "Instructions for updating:\n",
            "Use keras.layers.flatten instead.\n"
          ],
          "name": "stderr"
        },
        {
          "output_type": "stream",
          "text": [
            "WARNING:tensorflow:From /usr/local/lib/python3.6/dist-packages/tensorflow_core/python/layers/core.py:332: Layer.apply (from tensorflow.python.keras.engine.base_layer) is deprecated and will be removed in a future version.\n",
            "Instructions for updating:\n",
            "Please use `layer.__call__` method instead.\n"
          ],
          "name": "stdout"
        },
        {
          "output_type": "stream",
          "text": [
            "WARNING:tensorflow:From /usr/local/lib/python3.6/dist-packages/tensorflow_core/python/layers/core.py:332: Layer.apply (from tensorflow.python.keras.engine.base_layer) is deprecated and will be removed in a future version.\n",
            "Instructions for updating:\n",
            "Please use `layer.__call__` method instead.\n"
          ],
          "name": "stderr"
        },
        {
          "output_type": "stream",
          "text": [
            "WARNING:tensorflow:From <ipython-input-12-a403f841e91a>:3: softmax_cross_entropy_with_logits (from tensorflow.python.ops.nn_ops) is deprecated and will be removed in a future version.\n",
            "Instructions for updating:\n",
            "\n",
            "Future major versions of TensorFlow will allow gradients to flow\n",
            "into the labels input on backprop by default.\n",
            "\n",
            "See `tf.nn.softmax_cross_entropy_with_logits_v2`.\n",
            "\n"
          ],
          "name": "stdout"
        },
        {
          "output_type": "stream",
          "text": [
            "WARNING:tensorflow:From <ipython-input-12-a403f841e91a>:3: softmax_cross_entropy_with_logits (from tensorflow.python.ops.nn_ops) is deprecated and will be removed in a future version.\n",
            "Instructions for updating:\n",
            "\n",
            "Future major versions of TensorFlow will allow gradients to flow\n",
            "into the labels input on backprop by default.\n",
            "\n",
            "See `tf.nn.softmax_cross_entropy_with_logits_v2`.\n",
            "\n"
          ],
          "name": "stderr"
        },
        {
          "output_type": "stream",
          "text": [
            "Cost after epoch 0: 0.001333\n",
            "Cost after epoch 1: 0.001219\n",
            "Cost after epoch 2: 0.001017\n",
            "Cost after epoch 3: 0.000894\n",
            "Cost after epoch 4: 0.001028\n",
            "Cost after epoch 5: 0.000616\n",
            "Cost after epoch 6: 0.000589\n",
            "Cost after epoch 7: 0.000541\n",
            "Cost after epoch 8: 0.000724\n",
            "Cost after epoch 9: 0.000538\n",
            "Cost after epoch 10: 0.000828\n",
            "Cost after epoch 11: 0.000549\n",
            "Cost after epoch 12: 0.000581\n",
            "Cost after epoch 13: 0.000697\n",
            "Cost after epoch 14: 0.000310\n",
            "Cost after epoch 15: 0.000566\n",
            "Cost after epoch 16: 0.000409\n",
            "Cost after epoch 17: 0.000452\n",
            "Cost after epoch 18: 0.000486\n",
            "Cost after epoch 19: 0.000409\n",
            "Cost after epoch 20: 0.000294\n",
            "Cost after epoch 21: 0.000406\n",
            "Cost after epoch 22: 0.000712\n",
            "Cost after epoch 23: 0.000416\n",
            "Cost after epoch 24: 0.000425\n",
            "Cost after epoch 25: 0.000451\n",
            "Cost after epoch 26: 0.000305\n",
            "Cost after epoch 27: 0.000424\n",
            "Cost after epoch 28: 0.000312\n",
            "Cost after epoch 29: 0.000348\n",
            "Cost after epoch 30: 0.000224\n",
            "Cost after epoch 31: 0.000406\n",
            "Cost after epoch 32: 0.000350\n",
            "Cost after epoch 33: 0.000290\n",
            "Cost after epoch 34: 0.000281\n",
            "Cost after epoch 35: 0.000235\n",
            "Cost after epoch 36: 0.000440\n",
            "Cost after epoch 37: 0.000308\n",
            "Cost after epoch 38: 0.000265\n",
            "Cost after epoch 39: 0.000371\n",
            "Cost after epoch 40: 0.000367\n",
            "Cost after epoch 41: 0.000387\n",
            "Cost after epoch 42: 0.000486\n",
            "Cost after epoch 43: 0.000354\n",
            "Cost after epoch 44: 0.000278\n",
            "Cost after epoch 45: 0.000304\n",
            "Cost after epoch 46: 0.000431\n",
            "Cost after epoch 47: 0.000313\n",
            "Cost after epoch 48: 0.000385\n",
            "Cost after epoch 49: 0.000288\n"
          ],
          "name": "stdout"
        },
        {
          "output_type": "display_data",
          "data": {
            "image/png": "[encoded data removed]",
            "text/plain": [
              "<Figure size 432x288 with 1 Axes>"
            ]
          },
          "metadata": {
            "tags": [],
            "needs_background": "light"
          }
        },
        {
          "output_type": "stream",
          "text": [
            "Tensor(\"Mean_1:0\", shape=(), dtype=float32)\n"
          ],
          "name": "stdout"
        }
      ]
    }
  ]
}